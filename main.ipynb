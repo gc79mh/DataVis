{
 "cells": [
  {
   "cell_type": "code",
   "execution_count": null,
   "id": "941d9073",
   "metadata": {},
   "outputs": [],
   "source": [
    "%pip install numpy pandas\n",
    "%pip install nbconvert"
   ]
  },
  {
   "cell_type": "code",
   "execution_count": null,
   "id": "ca12f250",
   "metadata": {},
   "outputs": [],
   "source": [
    "import numpy as np\n",
    "import pandas as pd"
   ]
  },
  {
   "cell_type": "code",
   "execution_count": null,
   "id": "5accd797",
   "metadata": {},
   "outputs": [],
   "source": [
    "services = pd.read_csv(\"services_annual_dataset.csv\",encoding='1250')\n",
    "merchandise = pd.read_csv(\"merchandise_values_annual_dataset.csv\",encoding='1250')\n",
    "merchandise.drop(columns = [\"IndicatorCategory\", \"IndicatorCode\", \"ReporterCode\", \"ReporterISO3A\", \"PartnerCode\", \"PartnerISO3A\", \"ProductClassificationCode\", \"ProductCode\", \"PeriodCode\", \"Period\", \"FrequencyCode\", \"Frequency\", \"UnitCode\", \"ValueFlagCode\", \"ValueFlag\", \"Unit\", \"ProductClassification\"], inplace=True)\n",
    "services.drop(columns = [\"IndicatorCategory\", \"IndicatorCode\", \"ReporterCode\", \"ReporterISO3A\", \"PartnerCode\", \"PartnerISO3A\", \"ProductClassificationCode\", \"ProductCode\", \"PeriodCode\", \"Period\", \"FrequencyCode\", \"Frequency\", \"UnitCode\", \"ValueFlagCode\", \"ValueFlag\", \"Unit\"], inplace=True)"
   ]
  },
  {
   "cell_type": "code",
   "execution_count": null,
   "id": "ae0553c3",
   "metadata": {},
   "outputs": [],
   "source": [
    "merchandise"
   ]
  },
  {
   "cell_type": "code",
   "execution_count": null,
   "id": "7967de68",
   "metadata": {},
   "outputs": [],
   "source": [
    "merchandise[\"Product\"].unique()"
   ]
  },
  {
   "cell_type": "markdown",
   "id": "ad69d985",
   "metadata": {},
   "source": [
    "najlepsze produkty/uslugi jak siie zmieniala wartosc przez lata\n",
    "\n",
    "2 rozne glowne wykresy\n",
    "import export  osobno  product i uslugi\n",
    "\n",
    "leaderboard glownych importerow eksporterow\n",
    "\n",
    "pokazac fajne produkty/servisy\n",
    "\n"
   ]
  },
  {
   "cell_type": "markdown",
   "id": "082389dd",
   "metadata": {},
   "source": []
  }
 ],
 "metadata": {
  "kernelspec": {
   "display_name": ".venv",
   "language": "python",
   "name": "python3"
  },
  "language_info": {
   "codemirror_mode": {
    "name": "ipython",
    "version": 3
   },
   "file_extension": ".py",
   "mimetype": "text/x-python",
   "name": "python",
   "nbconvert_exporter": "python",
   "pygments_lexer": "ipython3",
   "version": "3.12.3"
  }
 },
 "nbformat": 4,
 "nbformat_minor": 5
}
