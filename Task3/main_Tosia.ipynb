{
 "cells": [
  {
   "cell_type": "code",
   "execution_count": 20,
   "id": "941d9073",
   "metadata": {},
   "outputs": [],
   "source": [
    "# %pip install numpy\n",
    "# %pip install pandas\n",
    "# %pip install nbconvert\n",
    "# %pip install plotly"
   ]
  },
  {
   "cell_type": "markdown",
   "id": "86e3cbab",
   "metadata": {},
   "source": [
    "# Import data\n",
    "\n",
    "## Read data\n",
    "\n",
    "### Third one\n",
    "1. services\n",
    "2. merchandise\n"
   ]
  },
  {
   "cell_type": "code",
   "execution_count": null,
   "id": "1a4c5e53",
   "metadata": {},
   "outputs": [],
   "source": [
    "jupyter nbconvert main_Tosia.ipynb --to html  --TemplateExporter.exclude_input_prompt=True  --TemplateExporter.exclude_output_prompt=True  --template mytemplate   --embed-images --standalone=True --debug\n"
   ]
  },
  {
   "cell_type": "markdown",
   "id": "e95b3e0d",
   "metadata": {},
   "source": []
  },
  {
   "cell_type": "code",
   "execution_count": 21,
   "id": "ca12f250",
   "metadata": {},
   "outputs": [
    {
     "data": {
      "text/html": [
       "        <script type=\"text/javascript\">\n",
       "        window.PlotlyConfig = {MathJaxConfig: 'local'};\n",
       "        if (window.MathJax && window.MathJax.Hub && window.MathJax.Hub.Config) {window.MathJax.Hub.Config({SVG: {font: \"STIX-Web\"}});}\n",
       "        </script>\n",
       "        <script type=\"module\">import \"https://cdn.plot.ly/plotly-3.0.1.min\"</script>\n",
       "        "
      ]
     },
     "metadata": {},
     "output_type": "display_data"
    }
   ],
   "source": [
    "import numpy as np\n",
    "import pandas as pd\n",
    "import plotly\n",
    "import plotly.offline as pyo\n",
    "pyo.init_notebook_mode(connected=True)"
   ]
  },
  {
   "cell_type": "code",
   "execution_count": 22,
   "id": "5accd797",
   "metadata": {},
   "outputs": [],
   "source": [
    "services = pd.read_csv(\"services_annual_dataset.csv\", encoding=\"1250\", low_memory=False)\n",
    "merchandise = pd.read_csv(\"merchandise_values_annual_dataset.csv\", encoding=\"1250\", low_memory=False)\n",
    "merchandise.drop(columns = [\"IndicatorCategory\", \"IndicatorCode\", \"ReporterCode\", \"ReporterISO3A\", \"PartnerCode\", \"PartnerISO3A\", \"ProductClassificationCode\", \"ProductCode\", \"PeriodCode\", \"Period\", \"FrequencyCode\", \"Frequency\", \"UnitCode\", \"ValueFlagCode\", \"ValueFlag\", \"Unit\", \"ProductClassification\"], inplace=True)\n",
    "services.drop(columns = [\"IndicatorCategory\", \"IndicatorCode\", \"ReporterCode\", \"ReporterISO3A\", \"PartnerCode\", \"PartnerISO3A\", \"ProductClassificationCode\", \"ProductCode\", \"PeriodCode\", \"Period\", \"FrequencyCode\", \"Frequency\", \"UnitCode\", \"ValueFlagCode\", \"ValueFlag\", \"Unit\"], inplace=True)"
   ]
  },
  {
   "cell_type": "markdown",
   "id": "84bfed1a",
   "metadata": {},
   "source": [
    "## Display data"
   ]
  },
  {
   "cell_type": "code",
   "execution_count": 23,
   "id": "ae0553c3",
   "metadata": {},
   "outputs": [
    {
     "data": {
      "text/html": [
       "<div>\n",
       "<style scoped>\n",
       "    .dataframe tbody tr th:only-of-type {\n",
       "        vertical-align: middle;\n",
       "    }\n",
       "\n",
       "    .dataframe tbody tr th {\n",
       "        vertical-align: top;\n",
       "    }\n",
       "\n",
       "    .dataframe thead th {\n",
       "        text-align: right;\n",
       "    }\n",
       "</style>\n",
       "<table border=\"1\" class=\"dataframe\">\n",
       "  <thead>\n",
       "    <tr style=\"text-align: right;\">\n",
       "      <th></th>\n",
       "      <th>Indicator</th>\n",
       "      <th>Reporter</th>\n",
       "      <th>Partner</th>\n",
       "      <th>Product</th>\n",
       "      <th>Year</th>\n",
       "      <th>Value</th>\n",
       "    </tr>\n",
       "  </thead>\n",
       "  <tbody>\n",
       "    <tr>\n",
       "      <th>0</th>\n",
       "      <td>Merchandise imports by product group - annual</td>\n",
       "      <td>Finland</td>\n",
       "      <td>World</td>\n",
       "      <td>Agricultural products</td>\n",
       "      <td>1995</td>\n",
       "      <td>2751</td>\n",
       "    </tr>\n",
       "    <tr>\n",
       "      <th>1</th>\n",
       "      <td>Merchandise imports by product group - annual</td>\n",
       "      <td>Costa Rica</td>\n",
       "      <td>World</td>\n",
       "      <td>Agricultural products</td>\n",
       "      <td>1992</td>\n",
       "      <td>249</td>\n",
       "    </tr>\n",
       "    <tr>\n",
       "      <th>2</th>\n",
       "      <td>Merchandise imports by product group - annual</td>\n",
       "      <td>Malta</td>\n",
       "      <td>World</td>\n",
       "      <td>Agricultural products</td>\n",
       "      <td>1997</td>\n",
       "      <td>325</td>\n",
       "    </tr>\n",
       "    <tr>\n",
       "      <th>3</th>\n",
       "      <td>Merchandise imports by product group - annual</td>\n",
       "      <td>Pakistan</td>\n",
       "      <td>World</td>\n",
       "      <td>Agricultural products</td>\n",
       "      <td>1991</td>\n",
       "      <td>1353</td>\n",
       "    </tr>\n",
       "    <tr>\n",
       "      <th>4</th>\n",
       "      <td>Merchandise imports by product group - annual</td>\n",
       "      <td>Mexico</td>\n",
       "      <td>World</td>\n",
       "      <td>Agricultural products</td>\n",
       "      <td>1997</td>\n",
       "      <td>8903</td>\n",
       "    </tr>\n",
       "    <tr>\n",
       "      <th>...</th>\n",
       "      <td>...</td>\n",
       "      <td>...</td>\n",
       "      <td>...</td>\n",
       "      <td>...</td>\n",
       "      <td>...</td>\n",
       "      <td>...</td>\n",
       "    </tr>\n",
       "    <tr>\n",
       "      <th>231386</th>\n",
       "      <td>Merchandise exports by product group - annual</td>\n",
       "      <td>Four East Asian traders</td>\n",
       "      <td>World</td>\n",
       "      <td>Total merchandise</td>\n",
       "      <td>1969</td>\n",
       "      <td>5399</td>\n",
       "    </tr>\n",
       "    <tr>\n",
       "      <th>231387</th>\n",
       "      <td>Merchandise exports by product group - annual</td>\n",
       "      <td>The Gambia</td>\n",
       "      <td>World</td>\n",
       "      <td>Total merchandise</td>\n",
       "      <td>1959</td>\n",
       "      <td>8</td>\n",
       "    </tr>\n",
       "    <tr>\n",
       "      <th>231388</th>\n",
       "      <td>Merchandise exports by product group - annual</td>\n",
       "      <td>Greenland</td>\n",
       "      <td>World</td>\n",
       "      <td>Total merchandise</td>\n",
       "      <td>1959</td>\n",
       "      <td>8</td>\n",
       "    </tr>\n",
       "    <tr>\n",
       "      <th>231389</th>\n",
       "      <td>Merchandise exports by product group - annual</td>\n",
       "      <td>Cabo Verde</td>\n",
       "      <td>World</td>\n",
       "      <td>Total merchandise</td>\n",
       "      <td>2016</td>\n",
       "      <td>60</td>\n",
       "    </tr>\n",
       "    <tr>\n",
       "      <th>231390</th>\n",
       "      <td>Merchandise exports by product group - annual</td>\n",
       "      <td>South and Central America and the Caribbean</td>\n",
       "      <td>World</td>\n",
       "      <td>Total merchandise</td>\n",
       "      <td>2018</td>\n",
       "      <td>626211</td>\n",
       "    </tr>\n",
       "  </tbody>\n",
       "</table>\n",
       "<p>231391 rows × 6 columns</p>\n",
       "</div>"
      ],
      "text/plain": [
       "                                            Indicator  \\\n",
       "0       Merchandise imports by product group - annual   \n",
       "1       Merchandise imports by product group - annual   \n",
       "2       Merchandise imports by product group - annual   \n",
       "3       Merchandise imports by product group - annual   \n",
       "4       Merchandise imports by product group - annual   \n",
       "...                                               ...   \n",
       "231386  Merchandise exports by product group - annual   \n",
       "231387  Merchandise exports by product group - annual   \n",
       "231388  Merchandise exports by product group - annual   \n",
       "231389  Merchandise exports by product group - annual   \n",
       "231390  Merchandise exports by product group - annual   \n",
       "\n",
       "                                           Reporter Partner  \\\n",
       "0                                           Finland   World   \n",
       "1                                        Costa Rica   World   \n",
       "2                                             Malta   World   \n",
       "3                                          Pakistan   World   \n",
       "4                                            Mexico   World   \n",
       "...                                             ...     ...   \n",
       "231386                      Four East Asian traders   World   \n",
       "231387                                   The Gambia   World   \n",
       "231388                                    Greenland   World   \n",
       "231389                                   Cabo Verde   World   \n",
       "231390  South and Central America and the Caribbean   World   \n",
       "\n",
       "                      Product  Year   Value  \n",
       "0       Agricultural products  1995    2751  \n",
       "1       Agricultural products  1992     249  \n",
       "2       Agricultural products  1997     325  \n",
       "3       Agricultural products  1991    1353  \n",
       "4       Agricultural products  1997    8903  \n",
       "...                       ...   ...     ...  \n",
       "231386      Total merchandise  1969    5399  \n",
       "231387      Total merchandise  1959       8  \n",
       "231388      Total merchandise  1959       8  \n",
       "231389      Total merchandise  2016      60  \n",
       "231390      Total merchandise  2018  626211  \n",
       "\n",
       "[231391 rows x 6 columns]"
      ]
     },
     "execution_count": 23,
     "metadata": {},
     "output_type": "execute_result"
    }
   ],
   "source": [
    "merchandise"
   ]
  },
  {
   "cell_type": "code",
   "execution_count": 24,
   "id": "ab673f9a",
   "metadata": {},
   "outputs": [
    {
     "data": {
      "text/html": [
       "<div>\n",
       "<style scoped>\n",
       "    .dataframe tbody tr th:only-of-type {\n",
       "        vertical-align: middle;\n",
       "    }\n",
       "\n",
       "    .dataframe tbody tr th {\n",
       "        vertical-align: top;\n",
       "    }\n",
       "\n",
       "    .dataframe thead th {\n",
       "        text-align: right;\n",
       "    }\n",
       "</style>\n",
       "<table border=\"1\" class=\"dataframe\">\n",
       "  <thead>\n",
       "    <tr style=\"text-align: right;\">\n",
       "      <th></th>\n",
       "      <th>Indicator</th>\n",
       "      <th>Reporter</th>\n",
       "      <th>Partner</th>\n",
       "      <th>ProductClassification</th>\n",
       "      <th>Product</th>\n",
       "      <th>Year</th>\n",
       "      <th>Value</th>\n",
       "    </tr>\n",
       "  </thead>\n",
       "  <tbody>\n",
       "    <tr>\n",
       "      <th>0</th>\n",
       "      <td>Commercial services imports by sector - annual...</td>\n",
       "      <td>Dominican Republic</td>\n",
       "      <td>World</td>\n",
       "      <td>Services - Extended Balance of Payments Classi...</td>\n",
       "      <td>Memo item: Total services</td>\n",
       "      <td>1980</td>\n",
       "      <td>399</td>\n",
       "    </tr>\n",
       "    <tr>\n",
       "      <th>1</th>\n",
       "      <td>Commercial services imports by sector - annual...</td>\n",
       "      <td>Sierra Leone</td>\n",
       "      <td>World</td>\n",
       "      <td>Services - Extended Balance of Payments Classi...</td>\n",
       "      <td>Memo item: Total services</td>\n",
       "      <td>1981</td>\n",
       "      <td>60</td>\n",
       "    </tr>\n",
       "    <tr>\n",
       "      <th>2</th>\n",
       "      <td>Commercial services imports by sector - annual...</td>\n",
       "      <td>Switzerland</td>\n",
       "      <td>World</td>\n",
       "      <td>Services - Extended Balance of Payments Classi...</td>\n",
       "      <td>Memo item: Total services</td>\n",
       "      <td>1982</td>\n",
       "      <td>4733</td>\n",
       "    </tr>\n",
       "    <tr>\n",
       "      <th>3</th>\n",
       "      <td>Commercial services imports by sector - annual...</td>\n",
       "      <td>Australia</td>\n",
       "      <td>World</td>\n",
       "      <td>Services - Extended Balance of Payments Classi...</td>\n",
       "      <td>Memo item: Total services</td>\n",
       "      <td>1984</td>\n",
       "      <td>8235</td>\n",
       "    </tr>\n",
       "    <tr>\n",
       "      <th>4</th>\n",
       "      <td>Commercial services imports by sector - annual...</td>\n",
       "      <td>Malta</td>\n",
       "      <td>World</td>\n",
       "      <td>Services - Extended Balance of Payments Classi...</td>\n",
       "      <td>Memo item: Total services</td>\n",
       "      <td>1984</td>\n",
       "      <td>210</td>\n",
       "    </tr>\n",
       "    <tr>\n",
       "      <th>...</th>\n",
       "      <td>...</td>\n",
       "      <td>...</td>\n",
       "      <td>...</td>\n",
       "      <td>...</td>\n",
       "      <td>...</td>\n",
       "      <td>...</td>\n",
       "      <td>...</td>\n",
       "    </tr>\n",
       "    <tr>\n",
       "      <th>5716310</th>\n",
       "      <td>Commercial services exports by sector and part...</td>\n",
       "      <td>Denmark</td>\n",
       "      <td>Kuwait, the State of</td>\n",
       "      <td>Services - Extended Balance of Payments Classi...</td>\n",
       "      <td>Goods-related services</td>\n",
       "      <td>2016</td>\n",
       "      <td>0</td>\n",
       "    </tr>\n",
       "    <tr>\n",
       "      <th>5716311</th>\n",
       "      <td>Commercial services exports by sector and part...</td>\n",
       "      <td>Germany</td>\n",
       "      <td>Switzerland</td>\n",
       "      <td>Services - Extended Balance of Payments Classi...</td>\n",
       "      <td>Goods-related services</td>\n",
       "      <td>2017</td>\n",
       "      <td>282</td>\n",
       "    </tr>\n",
       "    <tr>\n",
       "      <th>5716312</th>\n",
       "      <td>Commercial services exports by sector and part...</td>\n",
       "      <td>Lithuania</td>\n",
       "      <td>Tanzania</td>\n",
       "      <td>Services - Extended Balance of Payments Classi...</td>\n",
       "      <td>Goods-related services</td>\n",
       "      <td>2017</td>\n",
       "      <td>0</td>\n",
       "    </tr>\n",
       "    <tr>\n",
       "      <th>5716313</th>\n",
       "      <td>Commercial services exports by sector and part...</td>\n",
       "      <td>Spain</td>\n",
       "      <td>Switzerland</td>\n",
       "      <td>Services - Extended Balance of Payments Classi...</td>\n",
       "      <td>Goods-related services</td>\n",
       "      <td>2017</td>\n",
       "      <td>0</td>\n",
       "    </tr>\n",
       "    <tr>\n",
       "      <th>5716314</th>\n",
       "      <td>Commercial services exports by sector and part...</td>\n",
       "      <td>Portugal</td>\n",
       "      <td>Netherlands</td>\n",
       "      <td>Services - Extended Balance of Payments Classi...</td>\n",
       "      <td>Goods-related services</td>\n",
       "      <td>2017</td>\n",
       "      <td>20</td>\n",
       "    </tr>\n",
       "  </tbody>\n",
       "</table>\n",
       "<p>5716315 rows × 7 columns</p>\n",
       "</div>"
      ],
      "text/plain": [
       "                                                 Indicator  \\\n",
       "0        Commercial services imports by sector - annual...   \n",
       "1        Commercial services imports by sector - annual...   \n",
       "2        Commercial services imports by sector - annual...   \n",
       "3        Commercial services imports by sector - annual...   \n",
       "4        Commercial services imports by sector - annual...   \n",
       "...                                                    ...   \n",
       "5716310  Commercial services exports by sector and part...   \n",
       "5716311  Commercial services exports by sector and part...   \n",
       "5716312  Commercial services exports by sector and part...   \n",
       "5716313  Commercial services exports by sector and part...   \n",
       "5716314  Commercial services exports by sector and part...   \n",
       "\n",
       "                   Reporter               Partner  \\\n",
       "0        Dominican Republic                 World   \n",
       "1              Sierra Leone                 World   \n",
       "2               Switzerland                 World   \n",
       "3                 Australia                 World   \n",
       "4                     Malta                 World   \n",
       "...                     ...                   ...   \n",
       "5716310             Denmark  Kuwait, the State of   \n",
       "5716311             Germany           Switzerland   \n",
       "5716312           Lithuania              Tanzania   \n",
       "5716313               Spain           Switzerland   \n",
       "5716314            Portugal           Netherlands   \n",
       "\n",
       "                                     ProductClassification  \\\n",
       "0        Services - Extended Balance of Payments Classi...   \n",
       "1        Services - Extended Balance of Payments Classi...   \n",
       "2        Services - Extended Balance of Payments Classi...   \n",
       "3        Services - Extended Balance of Payments Classi...   \n",
       "4        Services - Extended Balance of Payments Classi...   \n",
       "...                                                    ...   \n",
       "5716310  Services - Extended Balance of Payments Classi...   \n",
       "5716311  Services - Extended Balance of Payments Classi...   \n",
       "5716312  Services - Extended Balance of Payments Classi...   \n",
       "5716313  Services - Extended Balance of Payments Classi...   \n",
       "5716314  Services - Extended Balance of Payments Classi...   \n",
       "\n",
       "                           Product  Year  Value  \n",
       "0        Memo item: Total services  1980    399  \n",
       "1        Memo item: Total services  1981     60  \n",
       "2        Memo item: Total services  1982   4733  \n",
       "3        Memo item: Total services  1984   8235  \n",
       "4        Memo item: Total services  1984    210  \n",
       "...                            ...   ...    ...  \n",
       "5716310     Goods-related services  2016      0  \n",
       "5716311     Goods-related services  2017    282  \n",
       "5716312     Goods-related services  2017      0  \n",
       "5716313     Goods-related services  2017      0  \n",
       "5716314     Goods-related services  2017     20  \n",
       "\n",
       "[5716315 rows x 7 columns]"
      ]
     },
     "execution_count": 24,
     "metadata": {},
     "output_type": "execute_result"
    }
   ],
   "source": [
    "services"
   ]
  },
  {
   "cell_type": "code",
   "execution_count": 25,
   "id": "7967de68",
   "metadata": {},
   "outputs": [
    {
     "data": {
      "text/plain": [
       "array(['Agricultural products', 'Food', 'Manufactures', 'Chemicals',\n",
       "       'Pharmaceuticals', 'Clothing', 'Iron and steel',\n",
       "       'Machinery and transport equipment', 'Automotive products',\n",
       "       'Office and telecom equipment',\n",
       "       'Electronic data processing and office equipment',\n",
       "       'Integrated circuits and electronic components',\n",
       "       'Telecommunications equipment', 'Transport equipment', 'Textiles',\n",
       "       'Fuels and mining products', 'Fuels', 'Total merchandise'],\n",
       "      dtype=object)"
      ]
     },
     "execution_count": 25,
     "metadata": {},
     "output_type": "execute_result"
    }
   ],
   "source": [
    "merchandise[\"Product\"].unique()"
   ]
  },
  {
   "cell_type": "code",
   "execution_count": 26,
   "id": "b5c5e185",
   "metadata": {},
   "outputs": [
    {
     "data": {
      "text/plain": [
       "array(['Memo item: Total services',\n",
       "       'Commercial services (Services excl. government services)',\n",
       "       'Other commercial services (Commercial services - Travel & Transport)',\n",
       "       'Transportation', 'Travel', 'Communications services',\n",
       "       'Telecommunication services', 'Construction', 'Insurance services',\n",
       "       'Financial services', 'Computer and information services',\n",
       "       'Computer services', 'Royalties and license fees',\n",
       "       'Other business services',\n",
       "       'Personal, cultural and recreational services',\n",
       "       'Audio-visual and related services',\n",
       "       'Memo item: Government services n.i.e.',\n",
       "       'Memo item: Other services',\n",
       "       'Memo item: Goods and commercial services',\n",
       "       'Manufacturing services on physical inputs owned by others',\n",
       "       'Goods for processing in reporting economy - Goods returned , Goods received',\n",
       "       'Goods for processing abroad - Goods sent , Goods returned',\n",
       "       'Maintenance and repair services n.i.e.', 'Transport',\n",
       "       'Sea transport', 'Passenger (Sea)',\n",
       "       'Of which: Payable by border, seasonal, and other short-term workers (Sea)',\n",
       "       'Freight (Sea)', 'Other (Sea)', 'Air transport', 'Passenger (Air)',\n",
       "       'Of which: Payable by border, seasonal, and other short-term workers (Air)',\n",
       "       'Freight (Air)', 'Other (Air)', 'Other modes of transport',\n",
       "       'Passenger (Other)',\n",
       "       'Of which: Payable by border, seasonal, and other short-term workers (Other)',\n",
       "       'Freight (Other)', 'Other (Other)', 'Space transport',\n",
       "       'Rail transport', 'Passenger (Rail)', 'Freight (Rail)',\n",
       "       'Other (Rail)', 'Road transport', 'Passenger (Road)',\n",
       "       'Freight (Road)', 'Other (Road)', 'Inland waterway transport',\n",
       "       'Passenger (Inland waterway)', 'Freight (Inland waterway)',\n",
       "       'Other (Inland waterway)', 'Pipeline transport',\n",
       "       'Electricity transmission',\n",
       "       'Other supporting and auxiliary transport services',\n",
       "       'Postal and courier services', 'Postal services',\n",
       "       'Courier services', 'Passenger (All modes of transport)',\n",
       "       'Of which: payable by border, seasonal, and other short-term workers (All modes of transport)',\n",
       "       'Freight (All modes of transport)',\n",
       "       'Other (All modes of transport)',\n",
       "       'Other (All modes of transport- other than Postal and courier services)',\n",
       "       'Goods (travel)', 'Local transport services',\n",
       "       'Accommodation services', 'Food-serving services',\n",
       "       'Other services', 'of which: Education services',\n",
       "       'of which: Health services', 'Business',\n",
       "       'Acquisition of goods and services by border, seasonal, and other short-term workers',\n",
       "       'Other (Business)', 'Personal', 'Health-related',\n",
       "       'Education-related', 'Other (Personal)',\n",
       "       'Tourism-related services in travel and passenger transport',\n",
       "       'Construction abroad', 'Construction in the reporting economy',\n",
       "       'Insurance and pension services', 'Direct insurance',\n",
       "       'Life insurance',\n",
       "       'Gross life insurance premiums receivable (credits) and payable (debits)',\n",
       "       'Gross life insurance claims receivable (credits) and payable (debits)',\n",
       "       'Freight insurance',\n",
       "       'Gross freight insurance premiums receivable (credits) and payable (debits)',\n",
       "       'Gross freight insurance claims receivable (credits) and payable (debits)',\n",
       "       'Other direct insurance',\n",
       "       'Gross other direct insurance premiums receivable (credits) and payable (debits)',\n",
       "       'Gross other direct insurance claims receivable (credits) and payable (debits)',\n",
       "       'Reinsurance', 'Auxiliary insurance services',\n",
       "       'Pension and standardized guaranteed services', 'Pension services',\n",
       "       'Standardized guarantee services',\n",
       "       'Explicitly charged and other financial services',\n",
       "       'Brokerage and market-making services',\n",
       "       'Underwriting and private placement services',\n",
       "       'Credit card and other credit-related services',\n",
       "       'Financial management services',\n",
       "       'Financial advisory and custody services',\n",
       "       'Securities lending, electronic funds transfer, and',\n",
       "       'Financial intermediation services indirectly measured (FISIM)',\n",
       "       'Charges for the use of intellectual property n.i.e.',\n",
       "       'Franchises and trademarks licensing fees', 'Trademarks',\n",
       "       'Franchise fees',\n",
       "       'Licences for the use of outcomes of research and development',\n",
       "       'Licences to reproduce and/or distribute computer software',\n",
       "       'Licences to reproduce and/or distribute audio-visual and related products',\n",
       "       'Licences to reproduce and/or distribute audio-visual products',\n",
       "       'Movies and television programming', 'Books and sound recordings',\n",
       "       'Broadcasting and recording of live events',\n",
       "       'Licences to reproduce and/or distribute other products',\n",
       "       'Telecommunications, computer, and information services',\n",
       "       'Telecommunications services', 'Computer software',\n",
       "       'Of which: Software originals', 'Other computer services',\n",
       "       'Cloud computing and data storage services',\n",
       "       'Other computer services other than cloud computing',\n",
       "       'Information services', 'News agency services',\n",
       "       'Other information services', 'Research and development services',\n",
       "       'Work undertaken on a systematic basis to increase the stock of knowledge',\n",
       "       'Provision of customized and non-customized research and development services',\n",
       "       'Sale of proprietary rights arising from research and development',\n",
       "       'Patents', 'Copyrights arising from research and development',\n",
       "       'Industrial processes and designs',\n",
       "       'Other sales of proprietary rights arising from research and development',\n",
       "       'Other research and development services',\n",
       "       'Professional and management consulting services',\n",
       "       'Legal, accounting, management consulting, and public relations services',\n",
       "       'Legal services',\n",
       "       'Accounting, auditing, bookkeeping, and tax consulting services',\n",
       "       'Business and management consulting and public relations services',\n",
       "       'Advertising, market research, and public opinion polling services',\n",
       "       'Advertising services',\n",
       "       'Market research and public opinion polling service',\n",
       "       'Of which: Convention, trade-fair and exhibition organization services',\n",
       "       'Technical, trade-related, and other business services',\n",
       "       'Architectural, engineering, scientific, and other technical services',\n",
       "       'Architectural services', 'Engineering services',\n",
       "       'Scientific and other technical services',\n",
       "       'Waste treatment and de-pollution, agricultural and mining services',\n",
       "       'Waste treatment and de-pollution',\n",
       "       'Services incidental to agriculture, forestry and fishing',\n",
       "       'Services incidental to mining, and oil and gas extraction',\n",
       "       'Operating leasing services', 'Trade-related services',\n",
       "       'Other business services n.i.e.',\n",
       "       'Of which: Employment services, i.e., search, placement and supply services of personnel',\n",
       "       'Personal, cultural, and recreational services',\n",
       "       'Audiovisual and related services', 'Audio-visual services',\n",
       "       'Audiovisual production services',\n",
       "       'Rights to use audiovisual products',\n",
       "       'Of which: Audio-visual originals', 'Artistic related services',\n",
       "       'Other personal, cultural, and recreational services',\n",
       "       'Health services', 'Education services',\n",
       "       'Heritage and recreational services', 'Other personal services',\n",
       "       'Memo item: Government goods and services n.i.e.',\n",
       "       'Memo item: Embassies and consulates',\n",
       "       'Memo item: Military units and agencies',\n",
       "       'Memo item: Other government goods and services n.i.e.',\n",
       "       'Services not allocated', 'Commercial services',\n",
       "       'Other commercial services', 'Goods-related services'],\n",
       "      dtype=object)"
      ]
     },
     "execution_count": 26,
     "metadata": {},
     "output_type": "execute_result"
    }
   ],
   "source": [
    "services[\"Product\"].unique()"
   ]
  },
  {
   "cell_type": "markdown",
   "id": "c2d0b96f",
   "metadata": {},
   "source": [
    "# Plot"
   ]
  },
  {
   "cell_type": "code",
   "execution_count": 27,
   "id": "248b2814",
   "metadata": {},
   "outputs": [
    {
     "data": {
      "application/vnd.plotly.v1+json": {
       "config": {
        "plotlyServerURL": "https://plot.ly"
       },
       "data": [
        {
         "hovertemplate": "Year=%{x}<br>Count=%{y}<extra></extra>",
         "legendgroup": "",
         "line": {
          "color": "#636efa",
          "dash": "solid"
         },
         "marker": {
          "symbol": "circle"
         },
         "mode": "lines+markers",
         "name": "",
         "orientation": "v",
         "showlegend": false,
         "type": "scatter",
         "x": {
          "bdata": "xgfHB8gHyQfKB8sHzAfNB84HzwfQB9EH0gfTB9QH1QfWB9cH2AfZB9oH2wfcB90H3gffB+AH4QfiB+MH5AflB+YH5wc=",
          "dtype": "i2"
         },
         "xaxis": "x",
         "y": {
          "bdata": "pGZxAp+ngALcMcsCdeTRAqE5OQNc5tYDjuMIBAnQMQQB4RkEr/FIBKldIQbgq+cFeq0qBuQiNweYFMcIC0oBChb9ggv1Rk8Nr8heDxI56At3lW8OAk1CESB4axH948YRL+fdEawrmQ8lvhkP8FW5ENHtdBJIiPgRLV+hEMsKBBX6NbAXiyyGFg==",
          "dtype": "i4"
         },
         "yaxis": "y"
        }
       ],
       "layout": {
        "legend": {
         "tracegroupgap": 0
        },
        "template": {
         "data": {
          "bar": [
           {
            "error_x": {
             "color": "#2a3f5f"
            },
            "error_y": {
             "color": "#2a3f5f"
            },
            "marker": {
             "line": {
              "color": "#E5ECF6",
              "width": 0.5
             },
             "pattern": {
              "fillmode": "overlay",
              "size": 10,
              "solidity": 0.2
             }
            },
            "type": "bar"
           }
          ],
          "barpolar": [
           {
            "marker": {
             "line": {
              "color": "#E5ECF6",
              "width": 0.5
             },
             "pattern": {
              "fillmode": "overlay",
              "size": 10,
              "solidity": 0.2
             }
            },
            "type": "barpolar"
           }
          ],
          "carpet": [
           {
            "aaxis": {
             "endlinecolor": "#2a3f5f",
             "gridcolor": "white",
             "linecolor": "white",
             "minorgridcolor": "white",
             "startlinecolor": "#2a3f5f"
            },
            "baxis": {
             "endlinecolor": "#2a3f5f",
             "gridcolor": "white",
             "linecolor": "white",
             "minorgridcolor": "white",
             "startlinecolor": "#2a3f5f"
            },
            "type": "carpet"
           }
          ],
          "choropleth": [
           {
            "colorbar": {
             "outlinewidth": 0,
             "ticks": ""
            },
            "type": "choropleth"
           }
          ],
          "contour": [
           {
            "colorbar": {
             "outlinewidth": 0,
             "ticks": ""
            },
            "colorscale": [
             [
              0,
              "#0d0887"
             ],
             [
              0.1111111111111111,
              "#46039f"
             ],
             [
              0.2222222222222222,
              "#7201a8"
             ],
             [
              0.3333333333333333,
              "#9c179e"
             ],
             [
              0.4444444444444444,
              "#bd3786"
             ],
             [
              0.5555555555555556,
              "#d8576b"
             ],
             [
              0.6666666666666666,
              "#ed7953"
             ],
             [
              0.7777777777777778,
              "#fb9f3a"
             ],
             [
              0.8888888888888888,
              "#fdca26"
             ],
             [
              1,
              "#f0f921"
             ]
            ],
            "type": "contour"
           }
          ],
          "contourcarpet": [
           {
            "colorbar": {
             "outlinewidth": 0,
             "ticks": ""
            },
            "type": "contourcarpet"
           }
          ],
          "heatmap": [
           {
            "colorbar": {
             "outlinewidth": 0,
             "ticks": ""
            },
            "colorscale": [
             [
              0,
              "#0d0887"
             ],
             [
              0.1111111111111111,
              "#46039f"
             ],
             [
              0.2222222222222222,
              "#7201a8"
             ],
             [
              0.3333333333333333,
              "#9c179e"
             ],
             [
              0.4444444444444444,
              "#bd3786"
             ],
             [
              0.5555555555555556,
              "#d8576b"
             ],
             [
              0.6666666666666666,
              "#ed7953"
             ],
             [
              0.7777777777777778,
              "#fb9f3a"
             ],
             [
              0.8888888888888888,
              "#fdca26"
             ],
             [
              1,
              "#f0f921"
             ]
            ],
            "type": "heatmap"
           }
          ],
          "histogram": [
           {
            "marker": {
             "pattern": {
              "fillmode": "overlay",
              "size": 10,
              "solidity": 0.2
             }
            },
            "type": "histogram"
           }
          ],
          "histogram2d": [
           {
            "colorbar": {
             "outlinewidth": 0,
             "ticks": ""
            },
            "colorscale": [
             [
              0,
              "#0d0887"
             ],
             [
              0.1111111111111111,
              "#46039f"
             ],
             [
              0.2222222222222222,
              "#7201a8"
             ],
             [
              0.3333333333333333,
              "#9c179e"
             ],
             [
              0.4444444444444444,
              "#bd3786"
             ],
             [
              0.5555555555555556,
              "#d8576b"
             ],
             [
              0.6666666666666666,
              "#ed7953"
             ],
             [
              0.7777777777777778,
              "#fb9f3a"
             ],
             [
              0.8888888888888888,
              "#fdca26"
             ],
             [
              1,
              "#f0f921"
             ]
            ],
            "type": "histogram2d"
           }
          ],
          "histogram2dcontour": [
           {
            "colorbar": {
             "outlinewidth": 0,
             "ticks": ""
            },
            "colorscale": [
             [
              0,
              "#0d0887"
             ],
             [
              0.1111111111111111,
              "#46039f"
             ],
             [
              0.2222222222222222,
              "#7201a8"
             ],
             [
              0.3333333333333333,
              "#9c179e"
             ],
             [
              0.4444444444444444,
              "#bd3786"
             ],
             [
              0.5555555555555556,
              "#d8576b"
             ],
             [
              0.6666666666666666,
              "#ed7953"
             ],
             [
              0.7777777777777778,
              "#fb9f3a"
             ],
             [
              0.8888888888888888,
              "#fdca26"
             ],
             [
              1,
              "#f0f921"
             ]
            ],
            "type": "histogram2dcontour"
           }
          ],
          "mesh3d": [
           {
            "colorbar": {
             "outlinewidth": 0,
             "ticks": ""
            },
            "type": "mesh3d"
           }
          ],
          "parcoords": [
           {
            "line": {
             "colorbar": {
              "outlinewidth": 0,
              "ticks": ""
             }
            },
            "type": "parcoords"
           }
          ],
          "pie": [
           {
            "automargin": true,
            "type": "pie"
           }
          ],
          "scatter": [
           {
            "fillpattern": {
             "fillmode": "overlay",
             "size": 10,
             "solidity": 0.2
            },
            "type": "scatter"
           }
          ],
          "scatter3d": [
           {
            "line": {
             "colorbar": {
              "outlinewidth": 0,
              "ticks": ""
             }
            },
            "marker": {
             "colorbar": {
              "outlinewidth": 0,
              "ticks": ""
             }
            },
            "type": "scatter3d"
           }
          ],
          "scattercarpet": [
           {
            "marker": {
             "colorbar": {
              "outlinewidth": 0,
              "ticks": ""
             }
            },
            "type": "scattercarpet"
           }
          ],
          "scattergeo": [
           {
            "marker": {
             "colorbar": {
              "outlinewidth": 0,
              "ticks": ""
             }
            },
            "type": "scattergeo"
           }
          ],
          "scattergl": [
           {
            "marker": {
             "colorbar": {
              "outlinewidth": 0,
              "ticks": ""
             }
            },
            "type": "scattergl"
           }
          ],
          "scattermap": [
           {
            "marker": {
             "colorbar": {
              "outlinewidth": 0,
              "ticks": ""
             }
            },
            "type": "scattermap"
           }
          ],
          "scattermapbox": [
           {
            "marker": {
             "colorbar": {
              "outlinewidth": 0,
              "ticks": ""
             }
            },
            "type": "scattermapbox"
           }
          ],
          "scatterpolar": [
           {
            "marker": {
             "colorbar": {
              "outlinewidth": 0,
              "ticks": ""
             }
            },
            "type": "scatterpolar"
           }
          ],
          "scatterpolargl": [
           {
            "marker": {
             "colorbar": {
              "outlinewidth": 0,
              "ticks": ""
             }
            },
            "type": "scatterpolargl"
           }
          ],
          "scatterternary": [
           {
            "marker": {
             "colorbar": {
              "outlinewidth": 0,
              "ticks": ""
             }
            },
            "type": "scatterternary"
           }
          ],
          "surface": [
           {
            "colorbar": {
             "outlinewidth": 0,
             "ticks": ""
            },
            "colorscale": [
             [
              0,
              "#0d0887"
             ],
             [
              0.1111111111111111,
              "#46039f"
             ],
             [
              0.2222222222222222,
              "#7201a8"
             ],
             [
              0.3333333333333333,
              "#9c179e"
             ],
             [
              0.4444444444444444,
              "#bd3786"
             ],
             [
              0.5555555555555556,
              "#d8576b"
             ],
             [
              0.6666666666666666,
              "#ed7953"
             ],
             [
              0.7777777777777778,
              "#fb9f3a"
             ],
             [
              0.8888888888888888,
              "#fdca26"
             ],
             [
              1,
              "#f0f921"
             ]
            ],
            "type": "surface"
           }
          ],
          "table": [
           {
            "cells": {
             "fill": {
              "color": "#EBF0F8"
             },
             "line": {
              "color": "white"
             }
            },
            "header": {
             "fill": {
              "color": "#C8D4E3"
             },
             "line": {
              "color": "white"
             }
            },
            "type": "table"
           }
          ]
         },
         "layout": {
          "annotationdefaults": {
           "arrowcolor": "#2a3f5f",
           "arrowhead": 0,
           "arrowwidth": 1
          },
          "autotypenumbers": "strict",
          "coloraxis": {
           "colorbar": {
            "outlinewidth": 0,
            "ticks": ""
           }
          },
          "colorscale": {
           "diverging": [
            [
             0,
             "#8e0152"
            ],
            [
             0.1,
             "#c51b7d"
            ],
            [
             0.2,
             "#de77ae"
            ],
            [
             0.3,
             "#f1b6da"
            ],
            [
             0.4,
             "#fde0ef"
            ],
            [
             0.5,
             "#f7f7f7"
            ],
            [
             0.6,
             "#e6f5d0"
            ],
            [
             0.7,
             "#b8e186"
            ],
            [
             0.8,
             "#7fbc41"
            ],
            [
             0.9,
             "#4d9221"
            ],
            [
             1,
             "#276419"
            ]
           ],
           "sequential": [
            [
             0,
             "#0d0887"
            ],
            [
             0.1111111111111111,
             "#46039f"
            ],
            [
             0.2222222222222222,
             "#7201a8"
            ],
            [
             0.3333333333333333,
             "#9c179e"
            ],
            [
             0.4444444444444444,
             "#bd3786"
            ],
            [
             0.5555555555555556,
             "#d8576b"
            ],
            [
             0.6666666666666666,
             "#ed7953"
            ],
            [
             0.7777777777777778,
             "#fb9f3a"
            ],
            [
             0.8888888888888888,
             "#fdca26"
            ],
            [
             1,
             "#f0f921"
            ]
           ],
           "sequentialminus": [
            [
             0,
             "#0d0887"
            ],
            [
             0.1111111111111111,
             "#46039f"
            ],
            [
             0.2222222222222222,
             "#7201a8"
            ],
            [
             0.3333333333333333,
             "#9c179e"
            ],
            [
             0.4444444444444444,
             "#bd3786"
            ],
            [
             0.5555555555555556,
             "#d8576b"
            ],
            [
             0.6666666666666666,
             "#ed7953"
            ],
            [
             0.7777777777777778,
             "#fb9f3a"
            ],
            [
             0.8888888888888888,
             "#fdca26"
            ],
            [
             1,
             "#f0f921"
            ]
           ]
          },
          "colorway": [
           "#636efa",
           "#EF553B",
           "#00cc96",
           "#ab63fa",
           "#FFA15A",
           "#19d3f3",
           "#FF6692",
           "#B6E880",
           "#FF97FF",
           "#FECB52"
          ],
          "font": {
           "color": "#2a3f5f"
          },
          "geo": {
           "bgcolor": "white",
           "lakecolor": "white",
           "landcolor": "#E5ECF6",
           "showlakes": true,
           "showland": true,
           "subunitcolor": "white"
          },
          "hoverlabel": {
           "align": "left"
          },
          "hovermode": "closest",
          "mapbox": {
           "style": "light"
          },
          "paper_bgcolor": "white",
          "plot_bgcolor": "#E5ECF6",
          "polar": {
           "angularaxis": {
            "gridcolor": "white",
            "linecolor": "white",
            "ticks": ""
           },
           "bgcolor": "#E5ECF6",
           "radialaxis": {
            "gridcolor": "white",
            "linecolor": "white",
            "ticks": ""
           }
          },
          "scene": {
           "xaxis": {
            "backgroundcolor": "#E5ECF6",
            "gridcolor": "white",
            "gridwidth": 2,
            "linecolor": "white",
            "showbackground": true,
            "ticks": "",
            "zerolinecolor": "white"
           },
           "yaxis": {
            "backgroundcolor": "#E5ECF6",
            "gridcolor": "white",
            "gridwidth": 2,
            "linecolor": "white",
            "showbackground": true,
            "ticks": "",
            "zerolinecolor": "white"
           },
           "zaxis": {
            "backgroundcolor": "#E5ECF6",
            "gridcolor": "white",
            "gridwidth": 2,
            "linecolor": "white",
            "showbackground": true,
            "ticks": "",
            "zerolinecolor": "white"
           }
          },
          "shapedefaults": {
           "line": {
            "color": "#2a3f5f"
           }
          },
          "ternary": {
           "aaxis": {
            "gridcolor": "white",
            "linecolor": "white",
            "ticks": ""
           },
           "baxis": {
            "gridcolor": "white",
            "linecolor": "white",
            "ticks": ""
           },
           "bgcolor": "#E5ECF6",
           "caxis": {
            "gridcolor": "white",
            "linecolor": "white",
            "ticks": ""
           }
          },
          "title": {
           "x": 0.05
          },
          "xaxis": {
           "automargin": true,
           "gridcolor": "white",
           "linecolor": "white",
           "ticks": "",
           "title": {
            "standoff": 15
           },
           "zerolinecolor": "white",
           "zerolinewidth": 2
          },
          "yaxis": {
           "automargin": true,
           "gridcolor": "white",
           "linecolor": "white",
           "ticks": "",
           "title": {
            "standoff": 15
           },
           "zerolinecolor": "white",
           "zerolinewidth": 2
          }
         }
        },
        "title": {
         "text": "Yearly Count of Total merchandise"
        },
        "xaxis": {
         "anchor": "y",
         "domain": [
          0,
          1
         ],
         "title": {
          "text": "Year"
         }
        },
        "yaxis": {
         "anchor": "x",
         "domain": [
          0,
          1
         ],
         "title": {
          "text": "Count"
         }
        }
       }
      },
      "text/html": [
       "<div>            <script src=\"https://cdnjs.cloudflare.com/ajax/libs/mathjax/2.7.5/MathJax.js?config=TeX-AMS-MML_SVG\"></script><script type=\"text/javascript\">if (window.MathJax && window.MathJax.Hub && window.MathJax.Hub.Config) {window.MathJax.Hub.Config({SVG: {font: \"STIX-Web\"}});}</script>                <script type=\"text/javascript\">window.PlotlyConfig = {MathJaxConfig: 'local'};</script>\n",
       "        <script charset=\"utf-8\" src=\"https://cdn.plot.ly/plotly-3.0.1.min.js\"></script>                <div id=\"b74b2e02-1d7c-416d-a7ea-dac5d1ffa087\" class=\"plotly-graph-div\" style=\"height:525px; width:100%;\"></div>            <script type=\"text/javascript\">                window.PLOTLYENV=window.PLOTLYENV || {};                                if (document.getElementById(\"b74b2e02-1d7c-416d-a7ea-dac5d1ffa087\")) {                    Plotly.newPlot(                        \"b74b2e02-1d7c-416d-a7ea-dac5d1ffa087\",                        [{\"hovertemplate\":\"Year=%{x}\\u003cbr\\u003eCount=%{y}\\u003cextra\\u003e\\u003c\\u002fextra\\u003e\",\"legendgroup\":\"\",\"line\":{\"color\":\"#636efa\",\"dash\":\"solid\"},\"marker\":{\"symbol\":\"circle\"},\"mode\":\"lines+markers\",\"name\":\"\",\"orientation\":\"v\",\"showlegend\":false,\"x\":{\"dtype\":\"i2\",\"bdata\":\"xgfHB8gHyQfKB8sHzAfNB84HzwfQB9EH0gfTB9QH1QfWB9cH2AfZB9oH2wfcB90H3gffB+AH4QfiB+MH5AflB+YH5wc=\"},\"xaxis\":\"x\",\"y\":{\"dtype\":\"i4\",\"bdata\":\"pGZxAp+ngALcMcsCdeTRAqE5OQNc5tYDjuMIBAnQMQQB4RkEr\\u002fFIBKldIQbgq+cFeq0qBuQiNweYFMcIC0oBChb9ggv1Rk8Nr8heDxI56At3lW8OAk1CESB4axH948YRL+fdEawrmQ8lvhkP8FW5ENHtdBJIiPgRLV+hEMsKBBX6NbAXiyyGFg==\"},\"yaxis\":\"y\",\"type\":\"scatter\"}],                        {\"template\":{\"data\":{\"histogram2dcontour\":[{\"type\":\"histogram2dcontour\",\"colorbar\":{\"outlinewidth\":0,\"ticks\":\"\"},\"colorscale\":[[0.0,\"#0d0887\"],[0.1111111111111111,\"#46039f\"],[0.2222222222222222,\"#7201a8\"],[0.3333333333333333,\"#9c179e\"],[0.4444444444444444,\"#bd3786\"],[0.5555555555555556,\"#d8576b\"],[0.6666666666666666,\"#ed7953\"],[0.7777777777777778,\"#fb9f3a\"],[0.8888888888888888,\"#fdca26\"],[1.0,\"#f0f921\"]]}],\"choropleth\":[{\"type\":\"choropleth\",\"colorbar\":{\"outlinewidth\":0,\"ticks\":\"\"}}],\"histogram2d\":[{\"type\":\"histogram2d\",\"colorbar\":{\"outlinewidth\":0,\"ticks\":\"\"},\"colorscale\":[[0.0,\"#0d0887\"],[0.1111111111111111,\"#46039f\"],[0.2222222222222222,\"#7201a8\"],[0.3333333333333333,\"#9c179e\"],[0.4444444444444444,\"#bd3786\"],[0.5555555555555556,\"#d8576b\"],[0.6666666666666666,\"#ed7953\"],[0.7777777777777778,\"#fb9f3a\"],[0.8888888888888888,\"#fdca26\"],[1.0,\"#f0f921\"]]}],\"heatmap\":[{\"type\":\"heatmap\",\"colorbar\":{\"outlinewidth\":0,\"ticks\":\"\"},\"colorscale\":[[0.0,\"#0d0887\"],[0.1111111111111111,\"#46039f\"],[0.2222222222222222,\"#7201a8\"],[0.3333333333333333,\"#9c179e\"],[0.4444444444444444,\"#bd3786\"],[0.5555555555555556,\"#d8576b\"],[0.6666666666666666,\"#ed7953\"],[0.7777777777777778,\"#fb9f3a\"],[0.8888888888888888,\"#fdca26\"],[1.0,\"#f0f921\"]]}],\"contourcarpet\":[{\"type\":\"contourcarpet\",\"colorbar\":{\"outlinewidth\":0,\"ticks\":\"\"}}],\"contour\":[{\"type\":\"contour\",\"colorbar\":{\"outlinewidth\":0,\"ticks\":\"\"},\"colorscale\":[[0.0,\"#0d0887\"],[0.1111111111111111,\"#46039f\"],[0.2222222222222222,\"#7201a8\"],[0.3333333333333333,\"#9c179e\"],[0.4444444444444444,\"#bd3786\"],[0.5555555555555556,\"#d8576b\"],[0.6666666666666666,\"#ed7953\"],[0.7777777777777778,\"#fb9f3a\"],[0.8888888888888888,\"#fdca26\"],[1.0,\"#f0f921\"]]}],\"surface\":[{\"type\":\"surface\",\"colorbar\":{\"outlinewidth\":0,\"ticks\":\"\"},\"colorscale\":[[0.0,\"#0d0887\"],[0.1111111111111111,\"#46039f\"],[0.2222222222222222,\"#7201a8\"],[0.3333333333333333,\"#9c179e\"],[0.4444444444444444,\"#bd3786\"],[0.5555555555555556,\"#d8576b\"],[0.6666666666666666,\"#ed7953\"],[0.7777777777777778,\"#fb9f3a\"],[0.8888888888888888,\"#fdca26\"],[1.0,\"#f0f921\"]]}],\"mesh3d\":[{\"type\":\"mesh3d\",\"colorbar\":{\"outlinewidth\":0,\"ticks\":\"\"}}],\"scatter\":[{\"fillpattern\":{\"fillmode\":\"overlay\",\"size\":10,\"solidity\":0.2},\"type\":\"scatter\"}],\"parcoords\":[{\"type\":\"parcoords\",\"line\":{\"colorbar\":{\"outlinewidth\":0,\"ticks\":\"\"}}}],\"scatterpolargl\":[{\"type\":\"scatterpolargl\",\"marker\":{\"colorbar\":{\"outlinewidth\":0,\"ticks\":\"\"}}}],\"bar\":[{\"error_x\":{\"color\":\"#2a3f5f\"},\"error_y\":{\"color\":\"#2a3f5f\"},\"marker\":{\"line\":{\"color\":\"#E5ECF6\",\"width\":0.5},\"pattern\":{\"fillmode\":\"overlay\",\"size\":10,\"solidity\":0.2}},\"type\":\"bar\"}],\"scattergeo\":[{\"type\":\"scattergeo\",\"marker\":{\"colorbar\":{\"outlinewidth\":0,\"ticks\":\"\"}}}],\"scatterpolar\":[{\"type\":\"scatterpolar\",\"marker\":{\"colorbar\":{\"outlinewidth\":0,\"ticks\":\"\"}}}],\"histogram\":[{\"marker\":{\"pattern\":{\"fillmode\":\"overlay\",\"size\":10,\"solidity\":0.2}},\"type\":\"histogram\"}],\"scattergl\":[{\"type\":\"scattergl\",\"marker\":{\"colorbar\":{\"outlinewidth\":0,\"ticks\":\"\"}}}],\"scatter3d\":[{\"type\":\"scatter3d\",\"line\":{\"colorbar\":{\"outlinewidth\":0,\"ticks\":\"\"}},\"marker\":{\"colorbar\":{\"outlinewidth\":0,\"ticks\":\"\"}}}],\"scattermap\":[{\"type\":\"scattermap\",\"marker\":{\"colorbar\":{\"outlinewidth\":0,\"ticks\":\"\"}}}],\"scattermapbox\":[{\"type\":\"scattermapbox\",\"marker\":{\"colorbar\":{\"outlinewidth\":0,\"ticks\":\"\"}}}],\"scatterternary\":[{\"type\":\"scatterternary\",\"marker\":{\"colorbar\":{\"outlinewidth\":0,\"ticks\":\"\"}}}],\"scattercarpet\":[{\"type\":\"scattercarpet\",\"marker\":{\"colorbar\":{\"outlinewidth\":0,\"ticks\":\"\"}}}],\"carpet\":[{\"aaxis\":{\"endlinecolor\":\"#2a3f5f\",\"gridcolor\":\"white\",\"linecolor\":\"white\",\"minorgridcolor\":\"white\",\"startlinecolor\":\"#2a3f5f\"},\"baxis\":{\"endlinecolor\":\"#2a3f5f\",\"gridcolor\":\"white\",\"linecolor\":\"white\",\"minorgridcolor\":\"white\",\"startlinecolor\":\"#2a3f5f\"},\"type\":\"carpet\"}],\"table\":[{\"cells\":{\"fill\":{\"color\":\"#EBF0F8\"},\"line\":{\"color\":\"white\"}},\"header\":{\"fill\":{\"color\":\"#C8D4E3\"},\"line\":{\"color\":\"white\"}},\"type\":\"table\"}],\"barpolar\":[{\"marker\":{\"line\":{\"color\":\"#E5ECF6\",\"width\":0.5},\"pattern\":{\"fillmode\":\"overlay\",\"size\":10,\"solidity\":0.2}},\"type\":\"barpolar\"}],\"pie\":[{\"automargin\":true,\"type\":\"pie\"}]},\"layout\":{\"autotypenumbers\":\"strict\",\"colorway\":[\"#636efa\",\"#EF553B\",\"#00cc96\",\"#ab63fa\",\"#FFA15A\",\"#19d3f3\",\"#FF6692\",\"#B6E880\",\"#FF97FF\",\"#FECB52\"],\"font\":{\"color\":\"#2a3f5f\"},\"hovermode\":\"closest\",\"hoverlabel\":{\"align\":\"left\"},\"paper_bgcolor\":\"white\",\"plot_bgcolor\":\"#E5ECF6\",\"polar\":{\"bgcolor\":\"#E5ECF6\",\"angularaxis\":{\"gridcolor\":\"white\",\"linecolor\":\"white\",\"ticks\":\"\"},\"radialaxis\":{\"gridcolor\":\"white\",\"linecolor\":\"white\",\"ticks\":\"\"}},\"ternary\":{\"bgcolor\":\"#E5ECF6\",\"aaxis\":{\"gridcolor\":\"white\",\"linecolor\":\"white\",\"ticks\":\"\"},\"baxis\":{\"gridcolor\":\"white\",\"linecolor\":\"white\",\"ticks\":\"\"},\"caxis\":{\"gridcolor\":\"white\",\"linecolor\":\"white\",\"ticks\":\"\"}},\"coloraxis\":{\"colorbar\":{\"outlinewidth\":0,\"ticks\":\"\"}},\"colorscale\":{\"sequential\":[[0.0,\"#0d0887\"],[0.1111111111111111,\"#46039f\"],[0.2222222222222222,\"#7201a8\"],[0.3333333333333333,\"#9c179e\"],[0.4444444444444444,\"#bd3786\"],[0.5555555555555556,\"#d8576b\"],[0.6666666666666666,\"#ed7953\"],[0.7777777777777778,\"#fb9f3a\"],[0.8888888888888888,\"#fdca26\"],[1.0,\"#f0f921\"]],\"sequentialminus\":[[0.0,\"#0d0887\"],[0.1111111111111111,\"#46039f\"],[0.2222222222222222,\"#7201a8\"],[0.3333333333333333,\"#9c179e\"],[0.4444444444444444,\"#bd3786\"],[0.5555555555555556,\"#d8576b\"],[0.6666666666666666,\"#ed7953\"],[0.7777777777777778,\"#fb9f3a\"],[0.8888888888888888,\"#fdca26\"],[1.0,\"#f0f921\"]],\"diverging\":[[0,\"#8e0152\"],[0.1,\"#c51b7d\"],[0.2,\"#de77ae\"],[0.3,\"#f1b6da\"],[0.4,\"#fde0ef\"],[0.5,\"#f7f7f7\"],[0.6,\"#e6f5d0\"],[0.7,\"#b8e186\"],[0.8,\"#7fbc41\"],[0.9,\"#4d9221\"],[1,\"#276419\"]]},\"xaxis\":{\"gridcolor\":\"white\",\"linecolor\":\"white\",\"ticks\":\"\",\"title\":{\"standoff\":15},\"zerolinecolor\":\"white\",\"automargin\":true,\"zerolinewidth\":2},\"yaxis\":{\"gridcolor\":\"white\",\"linecolor\":\"white\",\"ticks\":\"\",\"title\":{\"standoff\":15},\"zerolinecolor\":\"white\",\"automargin\":true,\"zerolinewidth\":2},\"scene\":{\"xaxis\":{\"backgroundcolor\":\"#E5ECF6\",\"gridcolor\":\"white\",\"linecolor\":\"white\",\"showbackground\":true,\"ticks\":\"\",\"zerolinecolor\":\"white\",\"gridwidth\":2},\"yaxis\":{\"backgroundcolor\":\"#E5ECF6\",\"gridcolor\":\"white\",\"linecolor\":\"white\",\"showbackground\":true,\"ticks\":\"\",\"zerolinecolor\":\"white\",\"gridwidth\":2},\"zaxis\":{\"backgroundcolor\":\"#E5ECF6\",\"gridcolor\":\"white\",\"linecolor\":\"white\",\"showbackground\":true,\"ticks\":\"\",\"zerolinecolor\":\"white\",\"gridwidth\":2}},\"shapedefaults\":{\"line\":{\"color\":\"#2a3f5f\"}},\"annotationdefaults\":{\"arrowcolor\":\"#2a3f5f\",\"arrowhead\":0,\"arrowwidth\":1},\"geo\":{\"bgcolor\":\"white\",\"landcolor\":\"#E5ECF6\",\"subunitcolor\":\"white\",\"showland\":true,\"showlakes\":true,\"lakecolor\":\"white\"},\"title\":{\"x\":0.05},\"mapbox\":{\"style\":\"light\"}}},\"xaxis\":{\"anchor\":\"y\",\"domain\":[0.0,1.0],\"title\":{\"text\":\"Year\"}},\"yaxis\":{\"anchor\":\"x\",\"domain\":[0.0,1.0],\"title\":{\"text\":\"Count\"}},\"legend\":{\"tracegroupgap\":0},\"title\":{\"text\":\"Yearly Count of Total merchandise\"}},                        {\"responsive\": true}                    ).then(function(){\n",
       "                            \n",
       "var gd = document.getElementById('b74b2e02-1d7c-416d-a7ea-dac5d1ffa087');\n",
       "var x = new MutationObserver(function (mutations, observer) {{\n",
       "        var display = window.getComputedStyle(gd).display;\n",
       "        if (!display || display === 'none') {{\n",
       "            console.log([gd, 'removed!']);\n",
       "            Plotly.purge(gd);\n",
       "            observer.disconnect();\n",
       "        }}\n",
       "}});\n",
       "\n",
       "// Listen for the removal of the full notebook cells\n",
       "var notebookContainer = gd.closest('#notebook-container');\n",
       "if (notebookContainer) {{\n",
       "    x.observe(notebookContainer, {childList: true});\n",
       "}}\n",
       "\n",
       "// Listen for the clearing of the current output cell\n",
       "var outputEl = gd.closest('.output');\n",
       "if (outputEl) {{\n",
       "    x.observe(outputEl, {childList: true});\n",
       "}}\n",
       "\n",
       "                        })                };            </script>        </div>"
      ]
     },
     "metadata": {},
     "output_type": "display_data"
    }
   ],
   "source": [
    "# import pandas as pd\n",
    "import plotly.express as px\n",
    "\n",
    "# 1. Get unique products\n",
    "products = merchandise[\"Product\"].unique()\n",
    "merchandise90 = merchandise[merchandise[\"Year\"] >= 1990]\n",
    "\n",
    "# 2. Loop over each product and plot its yearly trend\n",
    "for product in products:\n",
    "    # Filter to this product\n",
    "    df_prod = merchandise90[merchandise90[\"Product\"] == product]\n",
    "    \n",
    "    # Aggregate by Year: here we're just counting rows per year\n",
    "    df_yearly = (\n",
    "        df_prod\n",
    "        .groupby(\"Year\")\n",
    "        .sum()[\"Value\"]                      # or .sum()[\"Sales\"] if you have a \"Sales\" column\n",
    "        .reset_index(name=\"Count\")  # rename the aggregated column\n",
    "    )\n",
    "    \n",
    "    # Create a line chart\n",
    "    fig = px.line(\n",
    "        df_yearly,\n",
    "        x=\"Year\",\n",
    "        y=\"Count\",                  # change to your metric name if not counting\n",
    "        title=f\"Yearly Count of {product}\",\n",
    "        markers=True\n",
    "    )\n",
    "    \n",
    "    # Display in the notebook or script\n",
    "fig.show()\n"
   ]
  },
  {
   "cell_type": "markdown",
   "id": "1321c2bc",
   "metadata": {},
   "source": [
    "# Other remarks"
   ]
  },
  {
   "cell_type": "markdown",
   "id": "ad69d985",
   "metadata": {},
   "source": [
    "najlepsze produkty/uslugi jak siie zmieniala wartosc przez lata - pop-out with the sum of all\n",
    "\n",
    "2 rozne glowne wykresy\n",
    "import export  osobno  product i uslugi\n",
    "\n",
    "leaderboard glownych importerow eksporterow\n",
    "\n",
    "pokazac fajne produkty/servisy\n",
    "\n"
   ]
  },
  {
   "cell_type": "markdown",
   "id": "082389dd",
   "metadata": {},
   "source": []
  },
  {
   "cell_type": "code",
   "execution_count": null,
   "id": "b2e009d7",
   "metadata": {},
   "outputs": [
    {
     "name": "stderr",
     "output_type": "stream",
     "text": [
      "[NbConvertApp] Searching ['C:\\\\Users\\\\antig\\\\.jupyter', 'C:\\\\Users\\\\antig\\\\AppData\\\\Local\\\\Packages\\\\PythonSoftwareFoundation.Python.3.10_qbz5n2kfra8p0\\\\LocalCache\\\\local-packages\\\\etc\\\\jupyter', 'C:\\\\Program Files\\\\WindowsApps\\\\PythonSoftwareFoundation.Python.3.10_3.10.3056.0_x64__qbz5n2kfra8p0\\\\etc\\\\jupyter', 'C:\\\\ProgramData\\\\jupyter'] for config files\n",
      "[NbConvertApp] Looking for jupyter_config in C:\\ProgramData\\jupyter\n",
      "[NbConvertApp] Looking for jupyter_config in C:\\Program Files\\WindowsApps\\PythonSoftwareFoundation.Python.3.10_3.10.3056.0_x64__qbz5n2kfra8p0\\etc\\jupyter\n",
      "[NbConvertApp] Looking for jupyter_config in C:\\Users\\antig\\AppData\\Local\\Packages\\PythonSoftwareFoundation.Python.3.10_qbz5n2kfra8p0\\LocalCache\\local-packages\\etc\\jupyter\n",
      "[NbConvertApp] Looking for jupyter_config in C:\\Users\\antig\\.jupyter\n",
      "[NbConvertApp] Looking for jupyter_nbconvert_config in C:\\ProgramData\\jupyter\n",
      "[NbConvertApp] Looking for jupyter_nbconvert_config in C:\\Program Files\\WindowsApps\\PythonSoftwareFoundation.Python.3.10_3.10.3056.0_x64__qbz5n2kfra8p0\\etc\\jupyter\n",
      "[NbConvertApp] Looking for jupyter_nbconvert_config in C:\\Users\\antig\\AppData\\Local\\Packages\\PythonSoftwareFoundation.Python.3.10_qbz5n2kfra8p0\\LocalCache\\local-packages\\etc\\jupyter\n",
      "[NbConvertApp] Looking for jupyter_nbconvert_config in C:\\Users\\antig\\.jupyter\n",
      "[NbConvertApp] Looping through config variables with prefix \"JUPYTER_NBCONVERT\"\n",
      "[NbConvertApp] Converting notebook main_Tosia.ipynb to html\n",
      "[NbConvertApp] Notebook name is 'main_Tosia'\n",
      "[NbConvertApp] Template paths:\n",
      "\tc:\\Users\\antig\\OneDrive\\Pulpit\\studia\\sem4\\DV\\DataVis\\Task3\\TosiaTemplate\n",
      "\tC:\\Users\\antig\\AppData\\Local\\Packages\\PythonSoftwareFoundation.Python.3.10_qbz5n2kfra8p0\\LocalCache\\local-packages\\share\\jupyter\\nbconvert\\templates\\base\n",
      "\tC:\\Users\\antig\\AppData\\Roaming\\jupyter\n",
      "\tC:\\Users\\antig\\AppData\\Roaming\\jupyter\\nbconvert\\templates\n",
      "\tC:\\Users\\antig\\AppData\\Roaming\\jupyter\\nbconvert\\templates\\compatibility\n",
      "\tC:\\Users\\antig\\AppData\\Local\\Packages\\PythonSoftwareFoundation.Python.3.10_qbz5n2kfra8p0\\LocalCache\\local-packages\\share\\jupyter\n",
      "\tC:\\Users\\antig\\AppData\\Local\\Packages\\PythonSoftwareFoundation.Python.3.10_qbz5n2kfra8p0\\LocalCache\\local-packages\\share\\jupyter\\nbconvert\\templates\n",
      "\tC:\\Users\\antig\\AppData\\Local\\Packages\\PythonSoftwareFoundation.Python.3.10_qbz5n2kfra8p0\\LocalCache\\local-packages\\share\\jupyter\\nbconvert\\templates\\compatibility\n",
      "\tC:\\Program Files\\WindowsApps\\PythonSoftwareFoundation.Python.3.10_3.10.3056.0_x64__qbz5n2kfra8p0\\share\\jupyter\n",
      "\tC:\\Program Files\\WindowsApps\\PythonSoftwareFoundation.Python.3.10_3.10.3056.0_x64__qbz5n2kfra8p0\\share\\jupyter\\nbconvert\\templates\n",
      "\tC:\\Program Files\\WindowsApps\\PythonSoftwareFoundation.Python.3.10_3.10.3056.0_x64__qbz5n2kfra8p0\\share\\jupyter\\nbconvert\\templates\\compatibility\n",
      "\tC:\\ProgramData\\jupyter\n",
      "\tC:\\ProgramData\\jupyter\\nbconvert\\templates\n",
      "\tC:\\ProgramData\\jupyter\\nbconvert\\templates\\compatibility\n",
      "\tC:\\Users\\antig\\AppData\\Local\\Packages\\PythonSoftwareFoundation.Python.3.10_qbz5n2kfra8p0\\LocalCache\\local-packages\\share\\jupyter\\nbconvert\\templates\n",
      "[NbConvertApp] Applying preprocessor: TagRemovePreprocessor\n",
      "[NbConvertApp] Applying preprocessor: RegexRemovePreprocessor\n",
      "[NbConvertApp] Applying preprocessor: HighlightMagicsPreprocessor\n",
      "[NbConvertApp] Applying preprocessor: CSSHTMLHeaderPreprocessor\n",
      "[NbConvertApp] Attempting to load template index.html.j2\n",
      "[NbConvertApp]     template_paths: c:\\Users\\antig\\OneDrive\\Pulpit\\studia\\sem4\\DV\\DataVis\\Task3\\TosiaTemplate;C:\\Users\\antig\\AppData\\Local\\Packages\\PythonSoftwareFoundation.Python.3.10_qbz5n2kfra8p0\\LocalCache\\local-packages\\share\\jupyter\\nbconvert\\templates\\base;C:\\Users\\antig\\AppData\\Roaming\\jupyter;C:\\Users\\antig\\AppData\\Roaming\\jupyter\\nbconvert\\templates;C:\\Users\\antig\\AppData\\Roaming\\jupyter\\nbconvert\\templates\\compatibility;C:\\Users\\antig\\AppData\\Local\\Packages\\PythonSoftwareFoundation.Python.3.10_qbz5n2kfra8p0\\LocalCache\\local-packages\\share\\jupyter;C:\\Users\\antig\\AppData\\Local\\Packages\\PythonSoftwareFoundation.Python.3.10_qbz5n2kfra8p0\\LocalCache\\local-packages\\share\\jupyter\\nbconvert\\templates;C:\\Users\\antig\\AppData\\Local\\Packages\\PythonSoftwareFoundation.Python.3.10_qbz5n2kfra8p0\\LocalCache\\local-packages\\share\\jupyter\\nbconvert\\templates\\compatibility;C:\\Program Files\\WindowsApps\\PythonSoftwareFoundation.Python.3.10_3.10.3056.0_x64__qbz5n2kfra8p0\\share\\jupyter;C:\\Program Files\\WindowsApps\\PythonSoftwareFoundation.Python.3.10_3.10.3056.0_x64__qbz5n2kfra8p0\\share\\jupyter\\nbconvert\\templates;C:\\Program Files\\WindowsApps\\PythonSoftwareFoundation.Python.3.10_3.10.3056.0_x64__qbz5n2kfra8p0\\share\\jupyter\\nbconvert\\templates\\compatibility;C:\\ProgramData\\jupyter;C:\\ProgramData\\jupyter\\nbconvert\\templates;C:\\ProgramData\\jupyter\\nbconvert\\templates\\compatibility;C:\\Users\\antig\\AppData\\Local\\Packages\\PythonSoftwareFoundation.Python.3.10_qbz5n2kfra8p0\\LocalCache\\local-packages\\share\\jupyter\\nbconvert\\templates\n",
      "[NbConvertApp] Writing 369476 bytes to main_Tosia.html\n"
     ]
    }
   ],
   "source": [
    "# !jupyter nbconvert main.ipynb --to html --template basic\n",
    "!jupyter nbconvert main_Tosia.ipynb --to html --TemplateExporter.exclude_input_prompt=True --TemplateExporter.exclude_output_prompt=True --template mytemplate --debug\n",
    "    #--execute\n",
    "    "
   ]
  }
 ],
 "metadata": {
  "kernelspec": {
   "display_name": "Python 3",
   "language": "python",
   "name": "python3"
  },
  "language_info": {
   "codemirror_mode": {
    "name": "ipython",
    "version": 3
   },
   "file_extension": ".py",
   "mimetype": "text/x-python",
   "name": "python",
   "nbconvert_exporter": "python",
   "pygments_lexer": "ipython3",
   "version": "3.10.11"
  }
 },
 "nbformat": 4,
 "nbformat_minor": 5
}
