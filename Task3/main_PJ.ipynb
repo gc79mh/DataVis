{
    "cells": [
        {
            "cell_type": "raw",
            "metadata": {
                "vscode": {
                    "languageId": "raw"
                }
            },
            "source": [
                "title: Project 3\n",
                "author: AG and WB\n",
                "date: \"{{ datetime.now().strftime('%Y-%m-%d %H:%M:%S') }}\"\n",
                "output:\n",
                "    general:\n",
                "        input: false\n"
            ]
        },
        {
            "cell_type": "code",
            "execution_count": 6,
            "metadata": {},
            "outputs": [
                {
                    "name": "stdout",
                    "output_type": "stream",
                    "text": [
                        "The pretty_jupyter extension is already loaded. To reload it, use:\n",
                        "  %reload_ext pretty_jupyter\n"
                    ]
                }
            ],
            "source": [
                "%load_ext pretty_jupyter"
            ]
        },
        {
            "cell_type": "code",
            "execution_count": 7,
            "metadata": {},
            "outputs": [],
            "source": [
                "# import packages\n",
                "import pandas as pd"
            ]
        },
        {
            "cell_type": "markdown",
            "metadata": {},
            "source": [
                "%%jmd\n",
                "\n",
                "# First Section\n",
                "\n",
                "This is our first section. We use so called **Jinja Markdown** here.\n",
                "It allows us to combine Markdown with Python variables and makes\n",
                "for a more dynamic report.\n",
                "\n",
                "We can for example print pandas version such as this: {{ pd.__version__ }}."
            ]
        },
        {
            "cell_type": "code",
            "execution_count": 8,
            "metadata": {},
            "outputs": [
                {
                    "data": {
                        "text/html": [
                            "<div>\n",
                            "<style scoped>\n",
                            "    .dataframe tbody tr th:only-of-type {\n",
                            "        vertical-align: middle;\n",
                            "    }\n",
                            "\n",
                            "    .dataframe tbody tr th {\n",
                            "        vertical-align: top;\n",
                            "    }\n",
                            "\n",
                            "    .dataframe thead th {\n",
                            "        text-align: right;\n",
                            "    }\n",
                            "</style>\n",
                            "<table border=\"1\" class=\"dataframe\">\n",
                            "  <thead>\n",
                            "    <tr style=\"text-align: right;\">\n",
                            "      <th></th>\n",
                            "      <th>col1</th>\n",
                            "      <th>col2</th>\n",
                            "    </tr>\n",
                            "  </thead>\n",
                            "  <tbody>\n",
                            "    <tr>\n",
                            "      <th>0</th>\n",
                            "      <td>1</td>\n",
                            "      <td>cat1</td>\n",
                            "    </tr>\n",
                            "    <tr>\n",
                            "      <th>1</th>\n",
                            "      <td>2</td>\n",
                            "      <td>cat2</td>\n",
                            "    </tr>\n",
                            "    <tr>\n",
                            "      <th>2</th>\n",
                            "      <td>3</td>\n",
                            "      <td>cat1</td>\n",
                            "    </tr>\n",
                            "    <tr>\n",
                            "      <th>3</th>\n",
                            "      <td>4</td>\n",
                            "      <td>cat2</td>\n",
                            "    </tr>\n",
                            "  </tbody>\n",
                            "</table>\n",
                            "</div>"
                        ],
                        "text/plain": [
                            "   col1  col2\n",
                            "0     1  cat1\n",
                            "1     2  cat2\n",
                            "2     3  cat1\n",
                            "3     4  cat2"
                        ]
                    },
                    "execution_count": 8,
                    "metadata": {},
                    "output_type": "execute_result"
                }
            ],
            "source": [
                "data = pd.DataFrame({\"col1\": [1, 2, 3, 4], \"col2\": [\"cat1\", \"cat2\", \"cat1\", \"cat2\"]})\n",
                "\n",
                "data.head()"
            ]
        },
        {
            "cell_type": "markdown",
            "metadata": {},
            "source": [
                "%%jmd\n",
                "\n",
                "# Tabset Root\n",
                "[//]: # (-.- .tabset .tabset-pills)\n",
                "\n",
                "The content of this section will be shown as tabs. This will help us avoid potential scrolling and improve the HTML UI.\n",
                "\n",
                "## First Tab\n",
                "In the first tab, we can show some graphs or tables. We can output the table like this:\n",
                "\n",
                "{{ data.head().to_html() }}\n",
                "\n",
                "## Second Tab\n",
                "In the second tab, we can do the same. Btw maths also works in the tabs.\n",
                "\n",
                "## Not a Tabset\n",
                "This section will not be tabbed because it has the same level (or higher) as the Tabset Root."
            ]
        },
        {
            "cell_type": "code",
            "execution_count": 10,
            "metadata": {},
            "outputs": [
                {
                    "data": {
                        "text/markdown": [
                            "\n",
                            "We wrote `%%jinja markdown` on the first line and this transforms the code cell into a Jinja Markdown cell.\n",
                            "\n",
                            "Now we seamlessly combine Python variable \"a\" from before as simple as this: ."
                        ],
                        "text/plain": [
                            "<IPython.core.display.Markdown object>"
                        ]
                    },
                    "execution_count": 10,
                    "metadata": {},
                    "output_type": "execute_result"
                }
            ],
            "source": [
                "%%jinja markdown\n",
                "\n",
                "We wrote `%%jinja markdown` on the first line and this transforms the code cell into a Jinja Markdown cell.\n",
                "\n",
                "Now we seamlessly combine Python variable \"a\" from before as simple as this: {{ a }}."
            ]
        },
        {
            "cell_type": "code",
            "execution_count": null,
            "metadata": {},
            "outputs": [],
            "source": [
                "# jupyter nbconvert --to html --template=pj main_PJ.ipynb"
            ]
        }
    ],
    "metadata": {
        "kernelspec": {
            "display_name": "Python 3",
            "language": "python",
            "name": "python3"
        },
        "language_info": {
            "codemirror_mode": {
                "name": "ipython",
                "version": 3
            },
            "file_extension": ".py",
            "mimetype": "text/x-python",
            "name": "python",
            "nbconvert_exporter": "python",
            "pygments_lexer": "ipython3",
            "version": "3.10.11"
        },
        "output": {
            "general": {
                "input": false
            },
            "html": {
                "theme": "paper"
            }
        }
    },
    "nbformat": 4,
    "nbformat_minor": 2
}
