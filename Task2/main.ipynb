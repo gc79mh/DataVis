{
 "cells": [
  {
   "cell_type": "markdown",
   "metadata": {},
   "source": [
    "# Libraries"
   ]
  },
  {
   "cell_type": "code",
   "execution_count": null,
   "metadata": {},
   "outputs": [],
   "source": [
    "library(\"tidyverse\")\n",
    "library(\"viridis\")"
   ]
  },
  {
   "cell_type": "markdown",
   "metadata": {},
   "source": [
    "# Data"
   ]
  },
  {
   "cell_type": "markdown",
   "metadata": {},
   "source": [
    "Reading in the data"
   ]
  },
  {
   "cell_type": "code",
   "execution_count": null,
   "metadata": {},
   "outputs": [],
   "source": [
    "impostor_raw <- read.csv(\"LLM_Battles/impostor_techniques_usage.csv\")\n",
    "crewmate_raw <- read.csv(\"LLM_Battles/crewmate_techniques_usage.csv\")\n",
    "tournament_raw <- read.csv(\"LLM_Battles/tournament_analysis_640.csv\")"
   ]
  },
  {
   "cell_type": "markdown",
   "metadata": {},
   "source": [
    "Droping the \"Total.Techniques\" column"
   ]
  },
  {
   "cell_type": "code",
   "execution_count": null,
   "metadata": {},
   "outputs": [],
   "source": [
    "impostor_droped <- impostor_raw %>%\n",
    "  select(-\"Total.Techniques\")\n",
    "\n",
    "crewmate_droped <- crewmate_raw %>%\n",
    "  select(-\"Total.Techniques\")"
   ]
  },
  {
   "cell_type": "markdown",
   "metadata": {},
   "source": [
    "Changing format to long"
   ]
  },
  {
   "cell_type": "code",
   "execution_count": null,
   "metadata": {},
   "outputs": [],
   "source": [
    "impostor_long <- impostor_droped %>%\n",
    "  pivot_longer(\n",
    "    cols = -Persuasion.Technique,\n",
    "    names_to = \"model\",\n",
    "    values_to = \"value\"\n",
    "  )\n",
    "\n",
    "crewmate_long <- crewmate_droped %>%\n",
    "  pivot_longer(\n",
    "    cols = -Persuasion.Technique,\n",
    "    names_to = \"model\",\n",
    "    values_to = \"value\"\n",
    "  )"
   ]
  },
  {
   "cell_type": "markdown",
   "metadata": {},
   "source": [
    "Combining datasets"
   ]
  },
  {
   "cell_type": "code",
   "execution_count": null,
   "metadata": {},
   "outputs": [],
   "source": [
    "crewmate_long$role <- \"crewmate\"\n",
    "impostor_long$role <- \"impostor\"\n",
    "\n",
    "data <- bind_rows(crewmate_long, impostor_long)"
   ]
  },
  {
   "cell_type": "markdown",
   "metadata": {},
   "source": [
    "Creating a size to name translation"
   ]
  },
  {
   "cell_type": "code",
   "execution_count": null,
   "metadata": {},
   "outputs": [],
   "source": [
    "sizes <- unique(tournament_raw[c(\"Impostor\", \"ImpostorSize\")]) %>%\n",
    "  rename(\n",
    "    model_tournament = Impostor,\n",
    "    size = ImpostorSize\n",
    "  )\n",
    "sizes$model <- c(\n",
    "  \"llama.3.1.8b.instruct\",\n",
    "  \"llama.3.1.405b.instruct\",\n",
    "  \"gpt.4o.mini\",\n",
    "  \"gpt.4o\",\n",
    "  \"gemini.flash.1.5\",\n",
    "  \"gemini.pro.1.5\",\n",
    "  \"claude.3.5.sonnet\",\n",
    "  \"claude.3.5.haiku\"\n",
    ")"
   ]
  },
  {
   "cell_type": "markdown",
   "metadata": {},
   "source": [
    "Adding size label to the data"
   ]
  },
  {
   "cell_type": "code",
   "execution_count": null,
   "metadata": {},
   "outputs": [],
   "source": [
    "data <- data %>% left_join(sizes %>% select(model, size), by = \"model\")"
   ]
  },
  {
   "cell_type": "markdown",
   "metadata": {},
   "source": [
    "Averaging the crewmate values"
   ]
  },
  {
   "cell_type": "code",
   "execution_count": null,
   "metadata": {},
   "outputs": [],
   "source": [
    "data <- data %>% mutate(value = if_else(role == \"crewmate\", value / 4, value))"
   ]
  },
  {
   "cell_type": "markdown",
   "metadata": {},
   "source": [
    "# Plots"
   ]
  },
  {
   "cell_type": "markdown",
   "metadata": {},
   "source": [
    "### Points"
   ]
  },
  {
   "cell_type": "code",
   "execution_count": null,
   "metadata": {},
   "outputs": [],
   "source": [
    "ggplot(data, aes(y = Persuasion.Technique, x = value, color = model)) +\n",
    "  geom_point(size = 3) + scale_x_sqrt() + facet_grid(size ~ role)"
   ]
  },
  {
   "cell_type": "markdown",
   "metadata": {},
   "source": [
    "### Bar plot"
   ]
  },
  {
   "cell_type": "code",
   "execution_count": null,
   "metadata": {},
   "outputs": [],
   "source": [
    "ggplot(data, aes(x = model, y = value, fill = as.factor(Persuasion.Technique))) +\n",
    "  geom_bar(stat = \"identity\", position = \"dodge\", color = \"#000000\") +\n",
    "  facet_grid(~role) +\n",
    "  theme_minimal() +\n",
    "  theme(\n",
    "    axis.text.x = element_text(angle = 45, hjust = 1),\n",
    "    panel.grid.major = element_blank(),\n",
    "    panel.grid.minor = element_blank(),\n",
    "    panel.border = element_blank()\n",
    "  )"
   ]
  },
  {
   "cell_type": "markdown",
   "metadata": {},
   "source": [
    "### Heatmap"
   ]
  },
  {
   "cell_type": "code",
   "execution_count": null,
   "metadata": {},
   "outputs": [],
   "source": [
    "ggplot(data, aes(x = model, y = Persuasion.Technique, fill = value)) +\n",
    "  geom_tile(color = \"white\") +\n",
    "  scale_fill_gradient(low = \"lightyellow\", high = \"orange\") +\n",
    "  geom_text(aes(label = as.integer(value)), size = 3) +\n",
    "  labs(title = \"Heatmap of Persuasion Values by Model\",\n",
    "       x = \"Model\",\n",
    "       y = \"Persuasion Technique\",\n",
    "       fill = \"Value\") +\n",
    "  theme_minimal() +\n",
    "  theme(\n",
    "    axis.text.x = element_text(angle = 45, hjust = 1),\n",
    "    panel.grid.major = element_blank(),\n",
    "    panel.grid.minor = element_blank(),\n",
    "    panel.border = element_blank()\n",
    "  ) +\n",
    "  facet_wrap(~role, ncol = 2)"
   ]
  },
  {
   "cell_type": "code",
   "execution_count": null,
   "metadata": {},
   "outputs": [],
   "source": [
    "ggsave(\"final_plot.pdf\", width = 10, height = 6)"
   ]
  }
 ],
 "metadata": {
  "kernelspec": {
   "display_name": "Python 3",
   "language": "python",
   "name": "python3"
  },
  "language_info": {
   "codemirror_mode": {
    "name": "ipython",
    "version": 3
   },
   "file_extension": ".py",
   "mimetype": "text/x-python",
   "name": "python",
   "nbconvert_exporter": "python",
   "pygments_lexer": "ipython3",
   "version": "3.10.11"
  }
 },
 "nbformat": 4,
 "nbformat_minor": 2
}
