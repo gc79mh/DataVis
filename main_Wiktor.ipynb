{
 "cells": [
  {
   "cell_type": "markdown",
   "id": "58b20dfe",
   "metadata": {},
   "source": [
    "# Import"
   ]
  },
  {
   "cell_type": "code",
   "execution_count": null,
   "id": "941d9073",
   "metadata": {},
   "outputs": [],
   "source": [
    "# %pip install numpy pandas\n",
    "# %pip install nbconvert\n",
    "# %pip install plotly"
   ]
  },
  {
   "cell_type": "code",
   "execution_count": 1,
   "id": "ca12f250",
   "metadata": {},
   "outputs": [
    {
     "data": {
      "text/html": [
       "        <script type=\"text/javascript\">\n",
       "        window.PlotlyConfig = {MathJaxConfig: 'local'};\n",
       "        if (window.MathJax && window.MathJax.Hub && window.MathJax.Hub.Config) {window.MathJax.Hub.Config({SVG: {font: \"STIX-Web\"}});}\n",
       "        </script>\n",
       "        <script type=\"module\">import \"https://cdn.plot.ly/plotly-3.0.1.min\"</script>\n",
       "        "
      ]
     },
     "metadata": {},
     "output_type": "display_data"
    }
   ],
   "source": [
    "import numpy as np\n",
    "import pandas as pd\n",
    "import plotly\n",
    "import plotly.offline as pyo\n",
    "pyo.init_notebook_mode(connected=True)"
   ]
  },
  {
   "cell_type": "markdown",
   "id": "00ba600c",
   "metadata": {},
   "source": [
    "# Main"
   ]
  },
  {
   "cell_type": "code",
   "execution_count": 3,
   "id": "5accd797",
   "metadata": {},
   "outputs": [],
   "source": [
    "services = pd.read_csv(\"services_annual_dataset.csv\", encoding=\"1250\", low_memory=False)\n",
    "merchandise = pd.read_csv(\"merchandise_values_annual_dataset.csv\", encoding=\"1250\", low_memory=False)\n",
    "merchandise.drop(columns = [\"IndicatorCategory\", \"IndicatorCode\", \"ReporterCode\", \"ReporterISO3A\", \"PartnerCode\", \"PartnerISO3A\", \"ProductClassificationCode\", \"ProductCode\", \"PeriodCode\", \"Period\", \"FrequencyCode\", \"Frequency\", \"UnitCode\", \"ValueFlagCode\", \"ValueFlag\", \"Unit\", \"ProductClassification\"], inplace=True)\n",
    "services.drop(columns = [\"IndicatorCategory\", \"IndicatorCode\", \"ReporterCode\", \"ReporterISO3A\", \"PartnerCode\", \"PartnerISO3A\", \"ProductClassificationCode\", \"ProductCode\", \"PeriodCode\", \"Period\", \"FrequencyCode\", \"Frequency\", \"UnitCode\", \"ValueFlagCode\", \"ValueFlag\", \"Unit\"], inplace=True)"
   ]
  },
  {
   "cell_type": "code",
   "execution_count": null,
   "id": "248b2814",
   "metadata": {},
   "outputs": [],
   "source": [
    "# import pandas as pd\n",
    "import plotly.express as px\n",
    "\n",
    "# 1. Get unique products\n",
    "products = merchandise[\"Product\"].unique()\n",
    "\n",
    "# 2. Loop over each product and plot its yearly trend\n",
    "for product in products:\n",
    "    # Filter to this product\n",
    "    df_prod = merchandise[merchandise[\"Product\"] == product]\n",
    "    \n",
    "    # Aggregate by Year: here we're just counting rows per year\n",
    "    df_yearly = (\n",
    "        df_prod\n",
    "        .groupby(\"Year\")\n",
    "        .size()                      # or .sum()[\"Sales\"] if you have a \"Sales\" column\n",
    "        .reset_index(name=\"Count\")  # rename the aggregated column\n",
    "    )\n",
    "    \n",
    "    # Create a line chart\n",
    "    fig = px.line(\n",
    "        df_yearly,\n",
    "        x=\"Year\",\n",
    "        y=\"Count\",                  # change to your metric name if not counting\n",
    "        title=f\"Yearly Count of {product}\",\n",
    "        markers=True\n",
    "    )\n",
    "    \n",
    "    # Display in the notebook or script\n",
    "    fig.show()\n"
   ]
  },
  {
   "cell_type": "markdown",
   "id": "ad69d985",
   "metadata": {},
   "source": [
    "najlepsze produkty/uslugi jak siie zmieniala wartosc przez lata - pop-out with the sum of all\n",
    "\n",
    "2 rozne glowne wykresy\n",
    "import export  osobno  product i uslugi\n",
    "\n",
    "leaderboard glownych importerow eksporterow\n",
    "\n",
    "pokazac fajne produkty/servisy\n",
    "\n"
   ]
  }
 ],
 "metadata": {
  "kernelspec": {
   "display_name": ".venv",
   "language": "python",
   "name": "python3"
  },
  "language_info": {
   "codemirror_mode": {
    "name": "ipython",
    "version": 3
   },
   "file_extension": ".py",
   "mimetype": "text/x-python",
   "name": "python",
   "nbconvert_exporter": "python",
   "pygments_lexer": "ipython3",
   "version": "3.12.3"
  }
 },
 "nbformat": 4,
 "nbformat_minor": 5
}
